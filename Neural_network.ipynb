{
  "nbformat": 4,
  "nbformat_minor": 0,
  "metadata": {
    "colab": {
      "provenance": [],
      "gpuType": "A100",
      "machine_shape": "hm"
    },
    "kernelspec": {
      "name": "ir",
      "display_name": "R"
    },
    "language_info": {
      "name": "R"
    },
    "accelerator": "GPU"
  },
  "cells": [
    {
      "cell_type": "code",
      "execution_count": 1,
      "metadata": {
        "colab": {
          "base_uri": "https://localhost:8080/",
          "height": 460
        },
        "id": "OloGSAYfPVqg",
        "outputId": "a15b8c4b-656a-4c7c-f7c5-a36e3b5876f9"
      },
      "outputs": [
        {
          "output_type": "stream",
          "name": "stderr",
          "text": [
            "── \u001b[1mAttaching core tidyverse packages\u001b[22m ──────────────────────── tidyverse 2.0.0 ──\n",
            "\u001b[32m✔\u001b[39m \u001b[34mdplyr    \u001b[39m 1.1.4     \u001b[32m✔\u001b[39m \u001b[34mreadr    \u001b[39m 2.1.5\n",
            "\u001b[32m✔\u001b[39m \u001b[34mforcats  \u001b[39m 1.0.0     \u001b[32m✔\u001b[39m \u001b[34mstringr  \u001b[39m 1.5.1\n",
            "\u001b[32m✔\u001b[39m \u001b[34mggplot2  \u001b[39m 3.4.4     \u001b[32m✔\u001b[39m \u001b[34mtibble   \u001b[39m 3.2.1\n",
            "\u001b[32m✔\u001b[39m \u001b[34mlubridate\u001b[39m 1.9.3     \u001b[32m✔\u001b[39m \u001b[34mtidyr    \u001b[39m 1.3.1\n",
            "\u001b[32m✔\u001b[39m \u001b[34mpurrr    \u001b[39m 1.0.2     \n",
            "── \u001b[1mConflicts\u001b[22m ────────────────────────────────────────── tidyverse_conflicts() ──\n",
            "\u001b[31m✖\u001b[39m \u001b[34mdplyr\u001b[39m::\u001b[32mfilter()\u001b[39m masks \u001b[34mstats\u001b[39m::filter()\n",
            "\u001b[31m✖\u001b[39m \u001b[34mdplyr\u001b[39m::\u001b[32mlag()\u001b[39m    masks \u001b[34mstats\u001b[39m::lag()\n",
            "\u001b[36mℹ\u001b[39m Use the conflicted package (\u001b[3m\u001b[34m<http://conflicted.r-lib.org/>\u001b[39m\u001b[23m) to force all conflicts to become errors\n"
          ]
        },
        {
          "output_type": "display_data",
          "data": {
            "text/html": [
              "<table class=\"dataframe\">\n",
              "<caption>A data.frame: 6 × 12</caption>\n",
              "<thead>\n",
              "\t<tr><th></th><th scope=col>id</th><th scope=col>gender</th><th scope=col>age</th><th scope=col>hypertension</th><th scope=col>heart_disease</th><th scope=col>ever_married</th><th scope=col>work_type</th><th scope=col>Residence_type</th><th scope=col>avg_glucose_level</th><th scope=col>bmi</th><th scope=col>smoking_status</th><th scope=col>stroke</th></tr>\n",
              "\t<tr><th></th><th scope=col>&lt;int&gt;</th><th scope=col>&lt;chr&gt;</th><th scope=col>&lt;dbl&gt;</th><th scope=col>&lt;int&gt;</th><th scope=col>&lt;int&gt;</th><th scope=col>&lt;chr&gt;</th><th scope=col>&lt;chr&gt;</th><th scope=col>&lt;chr&gt;</th><th scope=col>&lt;dbl&gt;</th><th scope=col>&lt;dbl&gt;</th><th scope=col>&lt;chr&gt;</th><th scope=col>&lt;int&gt;</th></tr>\n",
              "</thead>\n",
              "<tbody>\n",
              "\t<tr><th scope=row>1</th><td> 9046</td><td>Male  </td><td>67</td><td>0</td><td>1</td><td>Yes</td><td>Private      </td><td>Urban</td><td>228.69</td><td>36.6</td><td>formerly smoked</td><td>1</td></tr>\n",
              "\t<tr><th scope=row>2</th><td>51676</td><td>Female</td><td>61</td><td>0</td><td>0</td><td>Yes</td><td>Self-employed</td><td>Rural</td><td>202.21</td><td>  NA</td><td>never smoked   </td><td>1</td></tr>\n",
              "\t<tr><th scope=row>3</th><td>31112</td><td>Male  </td><td>80</td><td>0</td><td>1</td><td>Yes</td><td>Private      </td><td>Rural</td><td>105.92</td><td>32.5</td><td>never smoked   </td><td>1</td></tr>\n",
              "\t<tr><th scope=row>4</th><td>60182</td><td>Female</td><td>49</td><td>0</td><td>0</td><td>Yes</td><td>Private      </td><td>Urban</td><td>171.23</td><td>34.4</td><td>smokes         </td><td>1</td></tr>\n",
              "\t<tr><th scope=row>5</th><td> 1665</td><td>Female</td><td>79</td><td>1</td><td>0</td><td>Yes</td><td>Self-employed</td><td>Rural</td><td>174.12</td><td>24.0</td><td>never smoked   </td><td>1</td></tr>\n",
              "\t<tr><th scope=row>6</th><td>56669</td><td>Male  </td><td>81</td><td>0</td><td>0</td><td>Yes</td><td>Private      </td><td>Urban</td><td>186.21</td><td>29.0</td><td>formerly smoked</td><td>1</td></tr>\n",
              "</tbody>\n",
              "</table>\n"
            ],
            "text/markdown": "\nA data.frame: 6 × 12\n\n| <!--/--> | id &lt;int&gt; | gender &lt;chr&gt; | age &lt;dbl&gt; | hypertension &lt;int&gt; | heart_disease &lt;int&gt; | ever_married &lt;chr&gt; | work_type &lt;chr&gt; | Residence_type &lt;chr&gt; | avg_glucose_level &lt;dbl&gt; | bmi &lt;dbl&gt; | smoking_status &lt;chr&gt; | stroke &lt;int&gt; |\n|---|---|---|---|---|---|---|---|---|---|---|---|---|\n| 1 |  9046 | Male   | 67 | 0 | 1 | Yes | Private       | Urban | 228.69 | 36.6 | formerly smoked | 1 |\n| 2 | 51676 | Female | 61 | 0 | 0 | Yes | Self-employed | Rural | 202.21 |   NA | never smoked    | 1 |\n| 3 | 31112 | Male   | 80 | 0 | 1 | Yes | Private       | Rural | 105.92 | 32.5 | never smoked    | 1 |\n| 4 | 60182 | Female | 49 | 0 | 0 | Yes | Private       | Urban | 171.23 | 34.4 | smokes          | 1 |\n| 5 |  1665 | Female | 79 | 1 | 0 | Yes | Self-employed | Rural | 174.12 | 24.0 | never smoked    | 1 |\n| 6 | 56669 | Male   | 81 | 0 | 0 | Yes | Private       | Urban | 186.21 | 29.0 | formerly smoked | 1 |\n\n",
            "text/latex": "A data.frame: 6 × 12\n\\begin{tabular}{r|llllllllllll}\n  & id & gender & age & hypertension & heart\\_disease & ever\\_married & work\\_type & Residence\\_type & avg\\_glucose\\_level & bmi & smoking\\_status & stroke\\\\\n  & <int> & <chr> & <dbl> & <int> & <int> & <chr> & <chr> & <chr> & <dbl> & <dbl> & <chr> & <int>\\\\\n\\hline\n\t1 &  9046 & Male   & 67 & 0 & 1 & Yes & Private       & Urban & 228.69 & 36.6 & formerly smoked & 1\\\\\n\t2 & 51676 & Female & 61 & 0 & 0 & Yes & Self-employed & Rural & 202.21 &   NA & never smoked    & 1\\\\\n\t3 & 31112 & Male   & 80 & 0 & 1 & Yes & Private       & Rural & 105.92 & 32.5 & never smoked    & 1\\\\\n\t4 & 60182 & Female & 49 & 0 & 0 & Yes & Private       & Urban & 171.23 & 34.4 & smokes          & 1\\\\\n\t5 &  1665 & Female & 79 & 1 & 0 & Yes & Self-employed & Rural & 174.12 & 24.0 & never smoked    & 1\\\\\n\t6 & 56669 & Male   & 81 & 0 & 0 & Yes & Private       & Urban & 186.21 & 29.0 & formerly smoked & 1\\\\\n\\end{tabular}\n",
            "text/plain": [
              "  id    gender age hypertension heart_disease ever_married work_type    \n",
              "1  9046 Male   67  0            1             Yes          Private      \n",
              "2 51676 Female 61  0            0             Yes          Self-employed\n",
              "3 31112 Male   80  0            1             Yes          Private      \n",
              "4 60182 Female 49  0            0             Yes          Private      \n",
              "5  1665 Female 79  1            0             Yes          Self-employed\n",
              "6 56669 Male   81  0            0             Yes          Private      \n",
              "  Residence_type avg_glucose_level bmi  smoking_status  stroke\n",
              "1 Urban          228.69            36.6 formerly smoked 1     \n",
              "2 Rural          202.21              NA never smoked    1     \n",
              "3 Rural          105.92            32.5 never smoked    1     \n",
              "4 Urban          171.23            34.4 smokes          1     \n",
              "5 Rural          174.12            24.0 never smoked    1     \n",
              "6 Urban          186.21            29.0 formerly smoked 1     "
            ]
          },
          "metadata": {}
        }
      ],
      "source": [
        "#importing the data\n",
        "library(tidyverse)\n",
        "library(dplyr)\n",
        "\n",
        "df <- read.csv(\"healthcare-dataset-stroke-data.csv\", na.strings = \"N/A\")\n",
        "head(df)\n"
      ]
    },
    {
      "cell_type": "markdown",
      "source": [
        "# New Section"
      ],
      "metadata": {
        "id": "U4gufkMDs5AQ"
      }
    },
    {
      "cell_type": "code",
      "source": [
        "#simple preprocessing\n",
        "#removing id column\n",
        "df <- df[, !(names(df) %in% \"id\")]\n",
        "colnames(df)"
      ],
      "metadata": {
        "colab": {
          "base_uri": "https://localhost:8080/",
          "height": 34
        },
        "id": "k24z5mtNReBI",
        "outputId": "c264d32b-e613-4484-bf88-6e702166fb36"
      },
      "execution_count": 2,
      "outputs": [
        {
          "output_type": "display_data",
          "data": {
            "text/html": [
              "<style>\n",
              ".list-inline {list-style: none; margin:0; padding: 0}\n",
              ".list-inline>li {display: inline-block}\n",
              ".list-inline>li:not(:last-child)::after {content: \"\\00b7\"; padding: 0 .5ex}\n",
              "</style>\n",
              "<ol class=list-inline><li>'gender'</li><li>'age'</li><li>'hypertension'</li><li>'heart_disease'</li><li>'ever_married'</li><li>'work_type'</li><li>'Residence_type'</li><li>'avg_glucose_level'</li><li>'bmi'</li><li>'smoking_status'</li><li>'stroke'</li></ol>\n"
            ],
            "text/markdown": "1. 'gender'\n2. 'age'\n3. 'hypertension'\n4. 'heart_disease'\n5. 'ever_married'\n6. 'work_type'\n7. 'Residence_type'\n8. 'avg_glucose_level'\n9. 'bmi'\n10. 'smoking_status'\n11. 'stroke'\n\n\n",
            "text/latex": "\\begin{enumerate*}\n\\item 'gender'\n\\item 'age'\n\\item 'hypertension'\n\\item 'heart\\_disease'\n\\item 'ever\\_married'\n\\item 'work\\_type'\n\\item 'Residence\\_type'\n\\item 'avg\\_glucose\\_level'\n\\item 'bmi'\n\\item 'smoking\\_status'\n\\item 'stroke'\n\\end{enumerate*}\n",
            "text/plain": [
              " [1] \"gender\"            \"age\"               \"hypertension\"     \n",
              " [4] \"heart_disease\"     \"ever_married\"      \"work_type\"        \n",
              " [7] \"Residence_type\"    \"avg_glucose_level\" \"bmi\"              \n",
              "[10] \"smoking_status\"    \"stroke\"           "
            ]
          },
          "metadata": {}
        }
      ]
    },
    {
      "cell_type": "code",
      "source": [
        "df$ever_married = factor(df$ever_married)\n",
        "df$work_type = factor(df$work_type)\n",
        "df$Residence_type = factor(df$Residence_type)\n",
        "df$smoking_status = factor(df$smoking_status)"
      ],
      "metadata": {
        "id": "wXA1YSaERdLp"
      },
      "execution_count": 3,
      "outputs": []
    },
    {
      "cell_type": "code",
      "source": [
        "\n",
        "#added later\n",
        "df$hypertension <- as.numeric(factor(df$hypertension))\n",
        "df$heart_disease <- as.numeric(factor(df$heart_disease))\n"
      ],
      "metadata": {
        "id": "P8dxJdBgRhFs"
      },
      "execution_count": 4,
      "outputs": []
    },
    {
      "cell_type": "code",
      "source": [
        "df <- df[df$gender != \"Other\", ]\n",
        "df$gender = factor(df$gender)"
      ],
      "metadata": {
        "id": "XeOzJD3TRiqq"
      },
      "execution_count": 5,
      "outputs": []
    },
    {
      "cell_type": "code",
      "source": [
        "median_bmi <- median(df$bmi, na.rm = TRUE)\n",
        "df$bmi[is.na(df$bmi)] <- median_bmi"
      ],
      "metadata": {
        "id": "D8nXVoVQRq5v"
      },
      "execution_count": 6,
      "outputs": []
    },
    {
      "cell_type": "code",
      "source": [
        "#removing row with other- only 1 row for that\n",
        "str(df)"
      ],
      "metadata": {
        "colab": {
          "base_uri": "https://localhost:8080/"
        },
        "id": "niDnJ3roRl04",
        "outputId": "58154ad6-0ab0-480f-835d-b24c1dd2f6e7"
      },
      "execution_count": 7,
      "outputs": [
        {
          "output_type": "stream",
          "name": "stdout",
          "text": [
            "'data.frame':\t5109 obs. of  11 variables:\n",
            " $ gender           : Factor w/ 2 levels \"Female\",\"Male\": 2 1 2 1 1 2 2 1 1 1 ...\n",
            " $ age              : num  67 61 80 49 79 81 74 69 59 78 ...\n",
            " $ hypertension     : num  1 1 1 1 2 1 2 1 1 1 ...\n",
            " $ heart_disease    : num  2 1 2 1 1 1 2 1 1 1 ...\n",
            " $ ever_married     : Factor w/ 2 levels \"No\",\"Yes\": 2 2 2 2 2 2 2 1 2 2 ...\n",
            " $ work_type        : Factor w/ 5 levels \"children\",\"Govt_job\",..: 4 5 4 4 5 4 4 4 4 4 ...\n",
            " $ Residence_type   : Factor w/ 2 levels \"Rural\",\"Urban\": 2 1 1 2 1 2 1 2 1 2 ...\n",
            " $ avg_glucose_level: num  229 202 106 171 174 ...\n",
            " $ bmi              : num  36.6 28.1 32.5 34.4 24 29 27.4 22.8 28.1 24.2 ...\n",
            " $ smoking_status   : Factor w/ 4 levels \"formerly smoked\",..: 1 2 2 3 2 1 2 2 4 4 ...\n",
            " $ stroke           : int  1 1 1 1 1 1 1 1 1 1 ...\n"
          ]
        }
      ]
    },
    {
      "cell_type": "code",
      "source": [
        "na_values <- sum(is.na(df))\n",
        "na_values_per_column <- colSums(is.na(df))\n",
        "na_values_per_column"
      ],
      "metadata": {
        "colab": {
          "base_uri": "https://localhost:8080/",
          "height": 52
        },
        "id": "ccwh7MiBRn9s",
        "outputId": "ac50f468-088b-4006-d267-270638062a56"
      },
      "execution_count": 8,
      "outputs": [
        {
          "output_type": "display_data",
          "data": {
            "text/html": [
              "<style>\n",
              ".dl-inline {width: auto; margin:0; padding: 0}\n",
              ".dl-inline>dt, .dl-inline>dd {float: none; width: auto; display: inline-block}\n",
              ".dl-inline>dt::after {content: \":\\0020\"; padding-right: .5ex}\n",
              ".dl-inline>dt:not(:first-of-type) {padding-left: .5ex}\n",
              "</style><dl class=dl-inline><dt>gender</dt><dd>0</dd><dt>age</dt><dd>0</dd><dt>hypertension</dt><dd>0</dd><dt>heart_disease</dt><dd>0</dd><dt>ever_married</dt><dd>0</dd><dt>work_type</dt><dd>0</dd><dt>Residence_type</dt><dd>0</dd><dt>avg_glucose_level</dt><dd>0</dd><dt>bmi</dt><dd>0</dd><dt>smoking_status</dt><dd>0</dd><dt>stroke</dt><dd>0</dd></dl>\n"
            ],
            "text/markdown": "gender\n:   0age\n:   0hypertension\n:   0heart_disease\n:   0ever_married\n:   0work_type\n:   0Residence_type\n:   0avg_glucose_level\n:   0bmi\n:   0smoking_status\n:   0stroke\n:   0\n\n",
            "text/latex": "\\begin{description*}\n\\item[gender] 0\n\\item[age] 0\n\\item[hypertension] 0\n\\item[heart\\textbackslash{}\\_disease] 0\n\\item[ever\\textbackslash{}\\_married] 0\n\\item[work\\textbackslash{}\\_type] 0\n\\item[Residence\\textbackslash{}\\_type] 0\n\\item[avg\\textbackslash{}\\_glucose\\textbackslash{}\\_level] 0\n\\item[bmi] 0\n\\item[smoking\\textbackslash{}\\_status] 0\n\\item[stroke] 0\n\\end{description*}\n",
            "text/plain": [
              "           gender               age      hypertension     heart_disease \n",
              "                0                 0                 0                 0 \n",
              "     ever_married         work_type    Residence_type avg_glucose_level \n",
              "                0                 0                 0                 0 \n",
              "              bmi    smoking_status            stroke \n",
              "                0                 0                 0 "
            ]
          },
          "metadata": {}
        }
      ]
    },
    {
      "cell_type": "code",
      "source": [
        "install.packages('caret')\n",
        "\n",
        "\n",
        "# # #min-max scaling of the numerical columns\n",
        "# library(caret)\n",
        "# # List of numeric columns you want to normalize\n",
        "# numeric_columns <- c(\"age\", \"avg_glucose_level\", \"bmi\")\n",
        "\n",
        "# # Use preProcess to normalize\n",
        "# preproc <- preProcess(df[, numeric_columns], method = c(\"range\"))\n",
        "# df_normalized <- predict(preproc, df[, numeric_columns])\n",
        "\n",
        "# # Replace the original columns with the standardized data\n",
        "# df[, numeric_columns] <- df_normalized\n"
      ],
      "metadata": {
        "colab": {
          "base_uri": "https://localhost:8080/"
        },
        "id": "HXhoIdhkRu6p",
        "outputId": "9e459eeb-aa74-492f-e246-91b151d89839"
      },
      "execution_count": 9,
      "outputs": [
        {
          "output_type": "stream",
          "name": "stderr",
          "text": [
            "Installing package into ‘/usr/local/lib/R/site-library’\n",
            "(as ‘lib’ is unspecified)\n",
            "\n"
          ]
        }
      ]
    },
    {
      "cell_type": "code",
      "source": [
        "install.packages('ROSE')\n",
        "\n",
        "library(ROSE)\n",
        "library(caret)\n",
        "\n",
        "#split the data into training and testing set\n",
        "set.seed(25) # for reproducibility\n",
        "sample_size <- floor(0.80 * nrow(df)) # 75% for training\n",
        "train_indices <- sample(seq_len(nrow(df)), size = sample_size)\n",
        "\n",
        "train_set <- df[train_indices, ]\n",
        "test_set <- df[-train_indices, ]"
      ],
      "metadata": {
        "colab": {
          "base_uri": "https://localhost:8080/"
        },
        "id": "RwSgQ8h6RzJj",
        "outputId": "7d16afa7-f4af-4de9-d4ec-285f7ae5ffde"
      },
      "execution_count": 10,
      "outputs": [
        {
          "output_type": "stream",
          "name": "stderr",
          "text": [
            "Installing package into ‘/usr/local/lib/R/site-library’\n",
            "(as ‘lib’ is unspecified)\n",
            "\n",
            "Loaded ROSE 0.0-4\n",
            "\n",
            "\n",
            "Loading required package: lattice\n",
            "\n",
            "\n",
            "Attaching package: ‘caret’\n",
            "\n",
            "\n",
            "The following object is masked from ‘package:purrr’:\n",
            "\n",
            "    lift\n",
            "\n",
            "\n"
          ]
        }
      ]
    },
    {
      "cell_type": "code",
      "source": [
        "\n",
        "train_set$stroke <- factor(train_set$stroke, levels = c(0, 1))\n",
        "test_set$stroke <- factor(test_set$stroke, levels = c(0, 1))"
      ],
      "metadata": {
        "id": "omCOwZu7R2Bw"
      },
      "execution_count": 11,
      "outputs": []
    },
    {
      "cell_type": "code",
      "source": [
        "balanced_train_set <- ovun.sample(stroke ~ ., data = train_set, method = \"over\")$data"
      ],
      "metadata": {
        "id": "XpJzPeBXR4Hy"
      },
      "execution_count": 12,
      "outputs": []
    },
    {
      "cell_type": "code",
      "source": [
        "install.packages('keras')\n",
        "library(keras)"
      ],
      "metadata": {
        "colab": {
          "base_uri": "https://localhost:8080/"
        },
        "id": "GfCL5McyPbTO",
        "outputId": "b410205f-35a4-430d-8fe7-f4b581cae8d1"
      },
      "execution_count": 13,
      "outputs": [
        {
          "output_type": "stream",
          "name": "stderr",
          "text": [
            "Installing package into ‘/usr/local/lib/R/site-library’\n",
            "(as ‘lib’ is unspecified)\n",
            "\n"
          ]
        }
      ]
    },
    {
      "cell_type": "code",
      "source": [
        "library(caret)\n",
        "library(keras)"
      ],
      "metadata": {
        "id": "R5pxa7XsbdM8"
      },
      "execution_count": 14,
      "outputs": []
    },
    {
      "cell_type": "code",
      "source": [
        "str(balanced_train_set)"
      ],
      "metadata": {
        "colab": {
          "base_uri": "https://localhost:8080/"
        },
        "id": "ry7De2tehnDN",
        "outputId": "029d8eb0-9a56-47d9-8d6e-25fa96dd8ece"
      },
      "execution_count": 15,
      "outputs": [
        {
          "output_type": "stream",
          "name": "stdout",
          "text": [
            "'data.frame':\t7791 obs. of  11 variables:\n",
            " $ gender           : Factor w/ 2 levels \"Female\",\"Male\": 1 2 1 2 1 1 2 1 1 2 ...\n",
            " $ age              : num  46 48 53 8 11 27 59 80 51 66 ...\n",
            " $ hypertension     : num  1 1 1 1 1 1 1 1 1 2 ...\n",
            " $ heart_disease    : num  1 1 1 1 1 1 1 1 1 1 ...\n",
            " $ ever_married     : Factor w/ 2 levels \"No\",\"Yes\": 1 2 2 1 1 2 2 2 2 2 ...\n",
            " $ work_type        : Factor w/ 5 levels \"children\",\"Govt_job\",..: 2 4 4 1 1 4 4 4 5 4 ...\n",
            " $ Residence_type   : Factor w/ 2 levels \"Rural\",\"Urban\": 1 1 1 2 1 2 2 2 2 2 ...\n",
            " $ avg_glucose_level: num  112.3 100 72.6 107.7 94.8 ...\n",
            " $ bmi              : num  23.5 25.2 66.8 20.3 22.7 26.1 28.1 34.7 33.5 28.9 ...\n",
            " $ smoking_status   : Factor w/ 4 levels \"formerly smoked\",..: 4 2 4 4 4 1 4 2 1 1 ...\n",
            " $ stroke           : Factor w/ 2 levels \"0\",\"1\": 1 1 1 1 1 1 1 1 1 1 ...\n"
          ]
        }
      ]
    },
    {
      "cell_type": "code",
      "source": [
        "library(caret)\n",
        "library(dplyr)\n",
        "\n",
        "X_train <- select(balanced_train_set, -stroke)  # Exclude the response variable\n",
        "y_train <- balanced_train_set$stroke  # Directly access the column\n",
        "\n",
        "# Convert y_train to numeric if it's a factor and not already numeric\n",
        "y_train <- as.numeric(as.character(y_train))\n",
        "\n",
        "# Apply dummyVars without fullRank to include all levels\n",
        "dummyVarsOut <- dummyVars(~., data = X_train, fullRank = FALSE)\n",
        "X_train <- predict(dummyVarsOut, X_train)\n",
        "\n",
        "# Ensure X_train is a matrix, which is what Keras expects\n",
        "X_train <- as.matrix(X_train)\n",
        "\n",
        "preProcValues <- preProcess(X_train, method = c(\"center\", \"scale\"))\n",
        "X_train <- predict(preProcValues, X_train)\n"
      ],
      "metadata": {
        "id": "cw9Zy8fPnWUg"
      },
      "execution_count": 16,
      "outputs": []
    },
    {
      "cell_type": "code",
      "source": [
        "if(any(sapply(X_train, is.character)) | any(sapply(y_train, is.character))) {\n",
        "  stop(\"Error: String data detected in the training set. Please ensure all data is numeric.\")\n",
        "}"
      ],
      "metadata": {
        "id": "HnnE9RXppDrk"
      },
      "execution_count": 17,
      "outputs": []
    },
    {
      "cell_type": "code",
      "source": [
        "model <- keras_model_sequential() %>%\n",
        "  layer_dense(units = 1024, activation = \"relu\", input_shape = ncol(X_train)) %>%\n",
        "  layer_batch_normalization() %>%\n",
        "  layer_dropout(rate = 0.2) %>%\n",
        "\n",
        "  layer_dense(units = 512, activation = \"relu\") %>%\n",
        "  layer_batch_normalization() %>%\n",
        "  layer_dropout(rate = 0.2) %>%\n",
        "\n",
        "  layer_dense(units = 256, activation = \"relu\") %>%\n",
        "  layer_batch_normalization() %>%\n",
        "  layer_dropout(rate = 0.2) %>%\n",
        "\n",
        "  layer_dense(units = 128, activation = \"relu\") %>%\n",
        "  layer_batch_normalization() %>%\n",
        "  layer_dropout(rate = 0.2) %>%\n",
        "\n",
        "  layer_dense(units = 64, activation = \"relu\") %>%\n",
        "  layer_batch_normalization() %>%\n",
        "  layer_dropout(rate = 0.2) %>%\n",
        "\n",
        "  layer_dense(units = 32, activation = \"relu\") %>%\n",
        "  layer_batch_normalization() %>%\n",
        "  layer_dropout(rate = 0.2) %>%\n",
        "\n",
        "  layer_dense(units = 1, activation = \"sigmoid\")  # For binary classification\n",
        "\n",
        "# Compile the model\n",
        "optimizer <- optimizer_rmsprop(learning_rate = 0.001)\n",
        "model %>% compile(\n",
        "  optimizer = optimizer,\n",
        "  loss = 'binary_crossentropy',\n",
        "  metrics = c('accuracy')\n",
        ")\n",
        "\n",
        "\n",
        "# Summary of the model\n",
        "summary(model)\n",
        "\n",
        "early_stopping <- callback_early_stopping(\n",
        "  monitor = \"val_loss\",     # Monitor the validation loss\n",
        "  patience = 25,            # Number of epochs with no improvement after which training will be stopped\n",
        "  restore_best_weights = TRUE  # Restore model weights from the epoch with the best value of the monitored quantity\n",
        ")\n",
        "\n",
        "# Fit the model to the training data, might consider adjusting epochs and batch_size\n",
        "history <- model %>% fit(\n",
        "  X_train,\n",
        "  y_train,\n",
        "  epochs = 150, # Increased number of epochs\n",
        "  batch_size = 64, # Adjusted batch size\n",
        "  validation_split = 0.2,\n",
        "  callbacks = list(early_stopping)\n",
        ")"
      ],
      "metadata": {
        "colab": {
          "base_uri": "https://localhost:8080/"
        },
        "id": "kpIeXS2XgSnT",
        "outputId": "042baf37-21a8-41d9-ae07-1b6fe4c42747"
      },
      "execution_count": 18,
      "outputs": [
        {
          "output_type": "stream",
          "name": "stdout",
          "text": [
            "Model: \"sequential\"\n",
            "________________________________________________________________________________\n",
            " Layer (type)                  Output Shape               Param #    Trainable  \n",
            "================================================================================\n",
            " dense_6 (Dense)               (None, 1024)               21504      Y          \n",
            " batch_normalization_5 (Batch  (None, 1024)               4096       Y          \n",
            " Normalization)                                                                 \n",
            " dropout_5 (Dropout)           (None, 1024)               0          Y          \n",
            " dense_5 (Dense)               (None, 512)                524800     Y          \n",
            " batch_normalization_4 (Batch  (None, 512)                2048       Y          \n",
            " Normalization)                                                                 \n",
            " dropout_4 (Dropout)           (None, 512)                0          Y          \n",
            " dense_4 (Dense)               (None, 256)                131328     Y          \n",
            " batch_normalization_3 (Batch  (None, 256)                1024       Y          \n",
            " Normalization)                                                                 \n",
            " dropout_3 (Dropout)           (None, 256)                0          Y          \n",
            " dense_3 (Dense)               (None, 128)                32896      Y          \n",
            " batch_normalization_2 (Batch  (None, 128)                512        Y          \n",
            " Normalization)                                                                 \n",
            " dropout_2 (Dropout)           (None, 128)                0          Y          \n",
            " dense_2 (Dense)               (None, 64)                 8256       Y          \n",
            " batch_normalization_1 (Batch  (None, 64)                 256        Y          \n",
            " Normalization)                                                                 \n",
            " dropout_1 (Dropout)           (None, 64)                 0          Y          \n",
            " dense_1 (Dense)               (None, 32)                 2080       Y          \n",
            " batch_normalization (BatchNo  (None, 32)                 128        Y          \n",
            " rmalization)                                                                   \n",
            " dropout (Dropout)             (None, 32)                 0          Y          \n",
            " dense (Dense)                 (None, 1)                  33         Y          \n",
            "================================================================================\n",
            "Total params: 728961 (2.78 MB)\n",
            "Trainable params: 724929 (2.77 MB)\n",
            "Non-trainable params: 4032 (15.75 KB)\n",
            "________________________________________________________________________________\n"
          ]
        }
      ]
    },
    {
      "cell_type": "code",
      "source": [
        "library(caret)\n",
        "library(dplyr)\n",
        "\n",
        "# Assuming test_set_processed is your test dataset and has been defined similarly to balanced_train_set\n",
        "X_test <- select(test_set, -stroke)  # Exclude the target variable\n",
        "y_test <- test_set$stroke  # Access the target column\n",
        "\n",
        "# Convert y_test to numeric if it's a factor and not already numeric\n",
        "y_test <- as.numeric(as.character(y_test))\n",
        "\n",
        "# Use the same dummyVars object (dummyVarsOut) created for X_train to transform X_test\n",
        "# This ensures that X_test is processed with the exact same feature encoding as X_train\n",
        "X_test <- predict(dummyVarsOut, newdata = X_test)\n",
        "\n",
        "# Ensure X_test is a matrix, which is what Keras expects\n",
        "X_test <- as.matrix(X_test)\n",
        "X_test <- predict(preProcValues, X_test)"
      ],
      "metadata": {
        "id": "EJg2wa25q3PC"
      },
      "execution_count": 19,
      "outputs": []
    },
    {
      "cell_type": "code",
      "source": [
        "# Evaluate the model on the test data\n",
        "evaluation_results <- model %>% evaluate(X_test, y_test, verbose = 0)\n",
        "\n",
        "# Since the structure of evaluation_results might not be a named list, use indexing\n",
        "# Normally, the first element is loss, and the second is accuracy, but this can depend on how you've compiled your model\n",
        "cat(\"Test Loss:\", evaluation_results[1], \"\\n\")\n",
        "cat(\"Test Accuracy:\", evaluation_results[2], \"\\n\")\n"
      ],
      "metadata": {
        "colab": {
          "base_uri": "https://localhost:8080/"
        },
        "id": "eId-S-0tWXo3",
        "outputId": "243de5e2-ed63-48d4-995a-f285291128bc"
      },
      "execution_count": 20,
      "outputs": [
        {
          "output_type": "stream",
          "name": "stdout",
          "text": [
            "Test Loss: 0.5528506 \n",
            "Test Accuracy: 0.9197652 \n"
          ]
        }
      ]
    },
    {
      "cell_type": "code",
      "source": [
        "library(keras)\n",
        "\n",
        "# Assume 'model' is your trained Keras model\n",
        "save_model_hdf5(model, \"neural_networks.h5\")\n"
      ],
      "metadata": {
        "id": "XPctedkL_WSO"
      },
      "execution_count": 22,
      "outputs": []
    }
  ]
}